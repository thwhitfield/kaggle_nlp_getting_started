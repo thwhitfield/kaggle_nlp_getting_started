{
 "cells": [
  {
   "cell_type": "code",
   "execution_count": null,
   "metadata": {},
   "outputs": [],
   "source": []
  },
  {
   "cell_type": "markdown",
   "metadata": {},
   "source": [
    "# Prototype end to end process\n",
    "1. Save the train/val/test sets (which were generated from the train set)\n",
    "2. Then have a simple process to train on the train set, optimize on the val set, and then test on the holdout test set. I'll then test the outputs on the actual submission test set."
   ]
  },
  {
   "cell_type": "code",
   "execution_count": 1,
   "metadata": {},
   "outputs": [],
   "source": [
    "%load_ext autoreload\n",
    "%autoreload 2"
   ]
  },
  {
   "cell_type": "code",
   "execution_count": 2,
   "metadata": {},
   "outputs": [],
   "source": [
    "import polars as pl\n",
    "from omegaconf import OmegaConf\n",
    "from pathlib import Path\n",
    "import os\n",
    "from typing import Tuple\n",
    "\n",
    "import torch"
   ]
  },
  {
   "cell_type": "code",
   "execution_count": 3,
   "metadata": {},
   "outputs": [],
   "source": [
    "from trav_nlp.misc import polars_train_val_test_split"
   ]
  },
  {
   "cell_type": "code",
   "execution_count": 20,
   "metadata": {},
   "outputs": [],
   "source": [
    "cfg = OmegaConf.create({\n",
    "    'raw_data': {\n",
    "        'train_path': '../data/train.csv',\n",
    "        'test_path': '../data/test.csv',\n",
    "        'sample_submission_path': '../data/sample_submission.csv',\n",
    "    },\n",
    "    # Split the train dataset into a train/val/test split\n",
    "    'training_data': {\n",
    "        'train_path': '../data/splits/train.parquet',\n",
    "        'val_path': '../data/splits/val.parquet',\n",
    "        'test_path': '../data/splits/test.parquet'\n",
    "    },\n",
    "\n",
    "    'params': {\n",
    "        'train_frac': 0.8,\n",
    "        'val_frac': 0.1,\n",
    "        'test_frac': 0.1,\n",
    "        'train_val_test_seed': 42,   \n",
    "    }\n",
    "})"
   ]
  },
  {
   "cell_type": "markdown",
   "metadata": {},
   "source": [
    "## Create the train/val/test splits if they don't already exist"
   ]
  },
  {
   "cell_type": "code",
   "execution_count": 32,
   "metadata": {},
   "outputs": [],
   "source": [
    "# Define local variables for configuration paths\n",
    "train_path = cfg.training_data.train_path\n",
    "val_path = cfg.training_data.val_path\n",
    "test_path = cfg.training_data.test_path\n",
    "raw_train_path = cfg.raw_data.train_path\n",
    "\n",
    "# Define local variables for parameters\n",
    "train_frac = cfg.params.train_frac\n",
    "val_frac = cfg.params.val_frac\n",
    "test_frac = cfg.params.test_frac\n",
    "seed = cfg.params.train_val_test_seed\n",
    "\n",
    "if Path(train_path).exists():\n",
    "    df_train = pl.read_parquet(train_path)\n",
    "    df_val = pl.read_parquet(val_path)\n",
    "    df_test = pl.read_parquet(test_path)\n",
    "else:\n",
    "    df = pl.read_csv(raw_train_path)\n",
    "    Path(train_path).parent.mkdir(parents=True, exist_ok=True)\n",
    "    \n",
    "    df_train, df_val, df_test = polars_train_val_test_split(\n",
    "        df, \n",
    "        train_frac=train_frac,\n",
    "        val_frac=val_frac,\n",
    "        test_frac=test_frac,\n",
    "        shuffle=True,\n",
    "        seed=seed\n",
    "    )\n",
    "    \n",
    "    df_train.write_parquet(train_path)\n",
    "    df_val.write_parquet(val_path)\n",
    "    df_test.write_parquet(test_path)"
   ]
  },
  {
   "cell_type": "code",
   "execution_count": 30,
   "metadata": {},
   "outputs": [
    {
     "name": "stdout",
     "output_type": "stream",
     "text": [
      "great, it worked.\n"
     ]
    }
   ],
   "source": [
    "print('great, it worked.')"
   ]
  },
  {
   "cell_type": "code",
   "execution_count": null,
   "metadata": {},
   "outputs": [],
   "source": []
  },
  {
   "cell_type": "code",
   "execution_count": null,
   "metadata": {},
   "outputs": [],
   "source": []
  },
  {
   "cell_type": "code",
   "execution_count": null,
   "metadata": {},
   "outputs": [],
   "source": []
  },
  {
   "cell_type": "code",
   "execution_count": null,
   "metadata": {},
   "outputs": [],
   "source": []
  },
  {
   "cell_type": "code",
   "execution_count": null,
   "metadata": {},
   "outputs": [],
   "source": []
  },
  {
   "cell_type": "code",
   "execution_count": null,
   "metadata": {},
   "outputs": [],
   "source": []
  },
  {
   "cell_type": "code",
   "execution_count": null,
   "metadata": {},
   "outputs": [],
   "source": []
  },
  {
   "cell_type": "code",
   "execution_count": null,
   "metadata": {},
   "outputs": [],
   "source": []
  },
  {
   "cell_type": "code",
   "execution_count": null,
   "metadata": {},
   "outputs": [],
   "source": []
  },
  {
   "cell_type": "code",
   "execution_count": null,
   "metadata": {},
   "outputs": [],
   "source": []
  },
  {
   "cell_type": "code",
   "execution_count": null,
   "metadata": {},
   "outputs": [],
   "source": []
  },
  {
   "cell_type": "code",
   "execution_count": null,
   "metadata": {},
   "outputs": [],
   "source": []
  },
  {
   "cell_type": "code",
   "execution_count": null,
   "metadata": {},
   "outputs": [],
   "source": []
  },
  {
   "cell_type": "code",
   "execution_count": null,
   "metadata": {},
   "outputs": [],
   "source": []
  },
  {
   "cell_type": "code",
   "execution_count": null,
   "metadata": {},
   "outputs": [],
   "source": []
  },
  {
   "cell_type": "code",
   "execution_count": null,
   "metadata": {},
   "outputs": [],
   "source": []
  },
  {
   "cell_type": "code",
   "execution_count": null,
   "metadata": {},
   "outputs": [],
   "source": []
  },
  {
   "cell_type": "code",
   "execution_count": null,
   "metadata": {},
   "outputs": [],
   "source": []
  },
  {
   "cell_type": "code",
   "execution_count": null,
   "metadata": {},
   "outputs": [],
   "source": []
  },
  {
   "cell_type": "code",
   "execution_count": null,
   "metadata": {},
   "outputs": [],
   "source": []
  },
  {
   "cell_type": "code",
   "execution_count": null,
   "metadata": {},
   "outputs": [],
   "source": []
  }
 ],
 "metadata": {
  "kernelspec": {
   "display_name": "kaggle_nlp_getting_started",
   "language": "python",
   "name": "python3"
  },
  "language_info": {
   "codemirror_mode": {
    "name": "ipython",
    "version": 3
   },
   "file_extension": ".py",
   "mimetype": "text/x-python",
   "name": "python",
   "nbconvert_exporter": "python",
   "pygments_lexer": "ipython3",
   "version": "3.12.9"
  }
 },
 "nbformat": 4,
 "nbformat_minor": 2
}
